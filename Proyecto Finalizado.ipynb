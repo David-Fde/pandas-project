{
 "cells": [
  {
   "cell_type": "code",
   "execution_count": 1,
   "metadata": {},
   "outputs": [],
   "source": [
    "import pandas as pd\n",
    "import re\n",
    "import numpy as np\n",
    "import matplotlib.pyplot as plt"
   ]
  },
  {
   "cell_type": "code",
   "execution_count": 30,
   "metadata": {},
   "outputs": [],
   "source": [
    "data = pd.read_csv(\"GSAF5.csv\",encoding='iso-8859-1')"
   ]
  },
  {
   "cell_type": "code",
   "execution_count": 3,
   "metadata": {},
   "outputs": [],
   "source": [
    "#Las columnas de Unnamed: 22 y Unnamed: 23 están practicamente vacias.\n",
    "\n",
    "data = data.drop(['Unnamed: 22','Unnamed: 23'],axis=1)\n",
    "\n",
    "# Más de la mitad de valores en la columna Time y casi la mitad de los valores de la columna Species están vacios\n",
    "# por lo que no son datos fiables para sacar conclusiones. Lo mismo ocurre con la columna Age.\n",
    "\n",
    "data = data.drop(['Time','Species ','Age'],axis=1)\n",
    "\n",
    "# Las columnas Case Number,Case Number.1, Case Number.2 no son iguales al 100% pero si en gran medida,\n",
    "# Las 3 no aportan información relevante\n",
    "\n",
    "data = data.drop(['Case Number','Case Number.1','Case Number.2'],axis=1)\n",
    "\n",
    "# La columna original order no aporta más que otro índice, por lo que no es de utilidad.\n",
    "\n",
    "data = data.drop(['original order'],axis=1)\n",
    "\n",
    "# Las columnas href y href formula son iguales y no aportan información relevante.\n",
    "\n",
    "data = data.drop(['href', 'href formula'],axis=1)\n",
    "\n",
    "# La columna Investigator or Source no parece aportar una información clara y/o relevante.\n",
    "\n",
    "data = data.drop(['Investigator or Source'],axis=1)\n",
    "\n",
    "# La columna Fatal (Y/N) no hace falta, ya que en la comlumna Injury, los ataques que han sido mortales\n",
    "# estan marcados como FATAL.\n",
    "\n",
    "data = data.drop(['Fatal (Y/N)'],axis=1)\n",
    "\n",
    "# La columna Injury puede ser vista en cada pdf adjunto para cada ataque, por lo que no es relevante.\n",
    "\n",
    "data = data.drop(['Injury'],axis=1)\n",
    "\n",
    "# La columna Date y Year son similares, ya que la columna Date tiene unos datos poco coherentes, se procede a \n",
    "# eliminarla.\n",
    "data = data.drop(['Date'],axis=1)\n",
    "\n",
    "# La columna Location y la columna Area no son necesarias, ya que conocemos el pais del ataque, ademas \n",
    "# la información que aporta Location puede ser encontrada en el PDF.\n",
    "\n",
    "data = data.drop(['Location','Area'],axis=1)\n",
    "\n",
    "# La columna name no es relevante para la elaboración de mi hipotesis final.\n",
    "\n",
    "data = data.drop(['Name'],axis=1)\n",
    "\n",
    "# La columna Activity no es relevante para mi hipotesis.\n",
    "\n",
    "data = data.drop(['Activity'],axis=1)"
   ]
  },
  {
   "cell_type": "code",
   "execution_count": 4,
   "metadata": {},
   "outputs": [],
   "source": [
    "# Dado que hay muchos años puestos a 0, y mi hipotesis es sólo valida a partir del 1900. Voy a eliminar las lineas\n",
    "# que sean anteriores a 1900 y posteriores a 1999.\n",
    "\n",
    "data = data.drop(data[(data['Year']<1900)].index)\n",
    "data = data.drop(data[(data['Year']>1999)].index)"
   ]
  },
  {
   "cell_type": "code",
   "execution_count": 5,
   "metadata": {},
   "outputs": [],
   "source": [
    "# Cambio de nombre de la columna Sex para quitarle el espacio al final del nombre.\n",
    "\n",
    "data['Sex']=data['Sex ']\n",
    "data = data.drop(['Sex '],axis=1)"
   ]
  },
  {
   "cell_type": "code",
   "execution_count": 6,
   "metadata": {},
   "outputs": [],
   "source": [
    "# Cambio de nombre de la columna pdf\n",
    "\n",
    "data['Pdf']=data['pdf']\n",
    "data = data.drop(['pdf'],axis=1)"
   ]
  },
  {
   "cell_type": "code",
   "execution_count": 7,
   "metadata": {},
   "outputs": [],
   "source": [
    "# Reorganización de las columnas.\n",
    "\n",
    "data = data.reindex(columns=['Year','Country','Type','Sex','Pdf'])"
   ]
  },
  {
   "cell_type": "code",
   "execution_count": 8,
   "metadata": {},
   "outputs": [],
   "source": [
    "# Limpieza de los valores de la columna Sex que no sean M,F o NaN\n",
    "\n",
    "data = data.drop(data[(data['Sex']=='.')].index)\n",
    "data = data.drop(data[(data['Sex']=='N')].index)"
   ]
  },
  {
   "cell_type": "code",
   "execution_count": 9,
   "metadata": {},
   "outputs": [],
   "source": [
    "# Elimina todas las filas con algun valor en NaN.\n",
    "data = data.dropna()"
   ]
  },
  {
   "cell_type": "code",
   "execution_count": 10,
   "metadata": {},
   "outputs": [],
   "source": [
    "# Reorganiza la tabla.\n",
    "data = data.sort_values(by=['Year','Country','Type','Sex'], ascending=[True,True,True,True])"
   ]
  },
  {
   "cell_type": "code",
   "execution_count": 11,
   "metadata": {},
   "outputs": [],
   "source": [
    "# Reinicia el ìndice para el nuevo dataframe.\n",
    "data = data.reset_index(drop=True)"
   ]
  },
  {
   "cell_type": "code",
   "execution_count": 12,
   "metadata": {},
   "outputs": [],
   "source": [
    "# Agrupa los valores Boat, Boating, Sea Disaster e Invalid de la columna 'Type' como Unprovoked.\n",
    "data = data.replace({'Type': {'Invalid':'Unprovoked','Boat':'Unprovoked','Boating':'Unprovoked','Sea Disaster':'Unprovoked'}})"
   ]
  },
  {
   "cell_type": "code",
   "execution_count": 13,
   "metadata": {},
   "outputs": [
    {
     "data": {
      "text/plain": [
       "USA                 999\n",
       "AUSTRALIA           682\n",
       "SOUTH AFRICA        360\n",
       "PAPUA NEW GUINEA    103\n",
       "NEW ZEALAND          46\n",
       "                   ... \n",
       "Fiji                  1\n",
       "HONDURAS              1\n",
       "CYPRUS                1\n",
       "BRITISH ISLES         1\n",
       "THAILAND              1\n",
       "Name: Country, Length: 144, dtype: int64"
      ]
     },
     "execution_count": 13,
     "metadata": {},
     "output_type": "execute_result"
    }
   ],
   "source": [
    "# Se puede deducir que el primer pais con mas ataques son los Estados Unidos y el segundo Australia, seguido por \n",
    "# Suráfrica, y el resto de la lista registran muchos menos ataques en comparación con los 3 primeros.\n",
    "data['Country'].value_counts()"
   ]
  },
  {
   "cell_type": "code",
   "execution_count": 27,
   "metadata": {},
   "outputs": [],
   "source": [
    "# Nuevo csv, con los datos limpios.\n",
    "data.to_csv(r'Cleaned.csv')"
   ]
  },
  {
   "cell_type": "code",
   "execution_count": 14,
   "metadata": {
    "scrolled": true
   },
   "outputs": [
    {
     "data": {
      "text/html": [
       "<div>\n",
       "<style scoped>\n",
       "    .dataframe tbody tr th:only-of-type {\n",
       "        vertical-align: middle;\n",
       "    }\n",
       "\n",
       "    .dataframe tbody tr th {\n",
       "        vertical-align: top;\n",
       "    }\n",
       "\n",
       "    .dataframe thead th {\n",
       "        text-align: right;\n",
       "    }\n",
       "</style>\n",
       "<table border=\"1\" class=\"dataframe\">\n",
       "  <thead>\n",
       "    <tr style=\"text-align: right;\">\n",
       "      <th></th>\n",
       "      <th>Year</th>\n",
       "      <th>Country</th>\n",
       "      <th>Type</th>\n",
       "      <th>Sex</th>\n",
       "      <th>Pdf</th>\n",
       "    </tr>\n",
       "  </thead>\n",
       "  <tbody>\n",
       "    <tr>\n",
       "      <th>0</th>\n",
       "      <td>1900</td>\n",
       "      <td>AUSTRALIA</td>\n",
       "      <td>Unprovoked</td>\n",
       "      <td>M</td>\n",
       "      <td>1900.12.27-Houston.pdf</td>\n",
       "    </tr>\n",
       "    <tr>\n",
       "      <th>1</th>\n",
       "      <td>1900</td>\n",
       "      <td>AUSTRALIA</td>\n",
       "      <td>Unprovoked</td>\n",
       "      <td>M</td>\n",
       "      <td>1900.09.15-Hennessy.pdf</td>\n",
       "    </tr>\n",
       "    <tr>\n",
       "      <th>2</th>\n",
       "      <td>1900</td>\n",
       "      <td>AUSTRALIA</td>\n",
       "      <td>Unprovoked</td>\n",
       "      <td>M</td>\n",
       "      <td>1900.01.28-Duck.pdf</td>\n",
       "    </tr>\n",
       "    <tr>\n",
       "      <th>3</th>\n",
       "      <td>1900</td>\n",
       "      <td>CROATIA</td>\n",
       "      <td>Unprovoked</td>\n",
       "      <td>M</td>\n",
       "      <td>1900.07.31-Croatia.pdf</td>\n",
       "    </tr>\n",
       "    <tr>\n",
       "      <th>4</th>\n",
       "      <td>1900</td>\n",
       "      <td>SOUTH AFRICA</td>\n",
       "      <td>Unprovoked</td>\n",
       "      <td>M</td>\n",
       "      <td>1900.10.27-Layzell.pdf</td>\n",
       "    </tr>\n",
       "    <tr>\n",
       "      <th>5</th>\n",
       "      <td>1900</td>\n",
       "      <td>SOUTH AFRICA</td>\n",
       "      <td>Unprovoked</td>\n",
       "      <td>M</td>\n",
       "      <td>1900.11.14-Strathorn.pdf</td>\n",
       "    </tr>\n",
       "    <tr>\n",
       "      <th>6</th>\n",
       "      <td>1900</td>\n",
       "      <td>SOUTH AFRICA</td>\n",
       "      <td>Unprovoked</td>\n",
       "      <td>M</td>\n",
       "      <td>1900.00.00.a-Gruner.pdf</td>\n",
       "    </tr>\n",
       "    <tr>\n",
       "      <th>7</th>\n",
       "      <td>1900</td>\n",
       "      <td>USA</td>\n",
       "      <td>Unprovoked</td>\n",
       "      <td>M</td>\n",
       "      <td>1900.07.14-Uhlbrecht.pdf</td>\n",
       "    </tr>\n",
       "    <tr>\n",
       "      <th>8</th>\n",
       "      <td>1900</td>\n",
       "      <td>USA</td>\n",
       "      <td>Unprovoked</td>\n",
       "      <td>M</td>\n",
       "      <td>1900.09.13-Brown.pdf</td>\n",
       "    </tr>\n",
       "    <tr>\n",
       "      <th>9</th>\n",
       "      <td>1900</td>\n",
       "      <td>USA</td>\n",
       "      <td>Unprovoked</td>\n",
       "      <td>M</td>\n",
       "      <td>1900.09.05-Hartman.pdf</td>\n",
       "    </tr>\n",
       "  </tbody>\n",
       "</table>\n",
       "</div>"
      ],
      "text/plain": [
       "   Year       Country        Type Sex                       Pdf\n",
       "0  1900     AUSTRALIA  Unprovoked   M    1900.12.27-Houston.pdf\n",
       "1  1900     AUSTRALIA  Unprovoked   M   1900.09.15-Hennessy.pdf\n",
       "2  1900     AUSTRALIA  Unprovoked   M       1900.01.28-Duck.pdf\n",
       "3  1900       CROATIA  Unprovoked   M    1900.07.31-Croatia.pdf\n",
       "4  1900  SOUTH AFRICA  Unprovoked   M    1900.10.27-Layzell.pdf\n",
       "5  1900  SOUTH AFRICA  Unprovoked   M  1900.11.14-Strathorn.pdf\n",
       "6  1900  SOUTH AFRICA  Unprovoked   M   1900.00.00.a-Gruner.pdf\n",
       "7  1900           USA  Unprovoked   M  1900.07.14-Uhlbrecht.pdf\n",
       "8  1900           USA  Unprovoked   M      1900.09.13-Brown.pdf\n",
       "9  1900           USA  Unprovoked   M    1900.09.05-Hartman.pdf"
      ]
     },
     "metadata": {},
     "output_type": "display_data"
    }
   ],
   "source": [
    "display(data.head(10))"
   ]
  },
  {
   "cell_type": "code",
   "execution_count": 23,
   "metadata": {},
   "outputs": [
    {
     "data": {
      "text/plain": [
       "M    2785\n",
       "F     254\n",
       "Name: Sex, dtype: int64"
      ]
     },
     "execution_count": 23,
     "metadata": {},
     "output_type": "execute_result"
    }
   ],
   "source": [
    "# Según los registros muchos mas hombres que mujeres fueron atacados por tiburones en el s.XX.\n",
    "data['Sex'].value_counts()"
   ]
  },
  {
   "cell_type": "code",
   "execution_count": 15,
   "metadata": {},
   "outputs": [
    {
     "data": {
      "image/png": "[encoded data removed]",
      "text/plain": [
       "<Figure size 432x288 with 1 Axes>"
      ]
     },
     "metadata": {
      "needs_background": "light"
     },
     "output_type": "display_data"
    }
   ],
   "source": [
    "plt.plot(data['Country'].value_counts().head(4),'ro-',linewidth=1)\n",
    "plt.xlabel('Countries')\n",
    "plt.ylabel('Total Attacks 20th Century')\n",
    "plt.show()"
   ]
  },
  {
   "cell_type": "code",
   "execution_count": 16,
   "metadata": {},
   "outputs": [
    {
     "name": "stdout",
     "output_type": "stream",
     "text": [
      "La media de ataques al año durante el s.XX es: 13\n"
     ]
    }
   ],
   "source": [
    "# Ataques de media por año durante el s.XX\n",
    "x = 365*100 + 25\n",
    "Total = x/2811\n",
    "print('La media de ataques al año durante el s.XX es: {}'.format(round(Total)))"
   ]
  },
  {
   "cell_type": "code",
   "execution_count": 17,
   "metadata": {
    "scrolled": true
   },
   "outputs": [
    {
     "data": {
      "text/plain": [
       "Unprovoked    2707\n",
       "Provoked       332\n",
       "Name: Type, dtype: int64"
      ]
     },
     "metadata": {},
     "output_type": "display_data"
    }
   ],
   "source": [
    "# Se puede deducir que la gran mayoría de ataques de tiburones durante el s.XX, no fueron provocados.\n",
    "display(data['Type'].value_counts())"
   ]
  },
  {
   "cell_type": "code",
   "execution_count": 18,
   "metadata": {},
   "outputs": [],
   "source": [
    "attacks_per_year = data['Year'].value_counts()\n",
    "x = pd.DataFrame(attacks_per_year)\n",
    "data2 = x.reset_index()"
   ]
  },
  {
   "cell_type": "code",
   "execution_count": 19,
   "metadata": {},
   "outputs": [],
   "source": [
    "data2['Attacks'] = data2['Year']\n",
    "data2['Year']=data2['index']"
   ]
  },
  {
   "cell_type": "code",
   "execution_count": 20,
   "metadata": {},
   "outputs": [],
   "source": [
    "data2 = data2.drop(['index'],axis=1)"
   ]
  },
  {
   "cell_type": "code",
   "execution_count": 21,
   "metadata": {},
   "outputs": [
    {
     "data": {
      "image/png": "[encoded data removed]",
      "text/plain": [
       "<Figure size 432x288 with 1 Axes>"
      ]
     },
     "metadata": {
      "needs_background": "light"
     },
     "output_type": "display_data"
    }
   ],
   "source": [
    "# En este grafico se muestran los 10 años con más ataques del s.XX.\n",
    "\n",
    "x = np.array(data2['Year'].head(10))\n",
    "y = np.array(data2['Attacks'].head(10))\n",
    "plt.bar(x,y)\n",
    "plt.title('Max attacks per year')\n",
    "plt.show()"
   ]
  }
 ],
 "metadata": {
  "kernelspec": {
   "display_name": "Python 3",
   "language": "python",
   "name": "python3"
  },
  "language_info": {
   "codemirror_mode": {
    "name": "ipython",
    "version": 3
   },
   "file_extension": ".py",
   "mimetype": "text/x-python",
   "name": "python",
   "nbconvert_exporter": "python",
   "pygments_lexer": "ipython3",
   "version": "3.6.8"
  }
 },
 "nbformat": 4,
 "nbformat_minor": 2
}
