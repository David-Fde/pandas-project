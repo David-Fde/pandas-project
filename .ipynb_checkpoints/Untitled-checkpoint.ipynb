{
 "cells": [
  {
   "cell_type": "code",
   "execution_count": null,
   "metadata": {},
   "outputs": [],
   "source": [
    "import pandas as pd\n",
    "import re"
   ]
  },
  {
   "cell_type": "code",
   "execution_count": null,
   "metadata": {},
   "outputs": [],
   "source": [
    "data = pd.read_csv(\"GSAF5.csv\",encoding='iso-8859-1')"
   ]
  },
  {
   "cell_type": "code",
   "execution_count": null,
   "metadata": {},
   "outputs": [],
   "source": [
    "#Las columnas de Unnamed: 22 y Unnamed: 23 están practicamente vacias.\n",
    "\n",
    "data = data.drop(['Unnamed: 22','Unnamed: 23'],axis=1)\n",
    "\n",
    "# Más de la mitad de valores en la columna Time y casi la mitad de los valores de la columna Species están vacios\n",
    "# por lo que no son datos fiables para sacar conclusiones. Lo mismo ocurre con la columna Age.\n",
    "\n",
    "data = data.drop(['Time','Species ','Age'],axis=1)\n",
    "\n",
    "# Las columnas Case Number,Case Number.1, Case Number.2 no son iguales al 100% pero si en gran medida,\n",
    "# Las 3 no aportan información relevante\n",
    "\n",
    "data = data.drop(['Case Number','Case Number.1','Case Number.2'],axis=1)\n",
    "\n",
    "# La columna original order no aporta más que otro índice, por lo que no es de utilidad.\n",
    "\n",
    "data = data.drop(['original order'],axis=1)\n",
    "\n",
    "# Las columnas href y href formula son iguales y no aportan información relevante.\n",
    "\n",
    "data = data.drop(['href', 'href formula'],axis=1)\n",
    "\n",
    "# La columna Investigator or Source no parece aportar una información clara y/o relevante.\n",
    "\n",
    "data = data.drop(['Investigator or Source'],axis=1)\n",
    "\n",
    "# La columna Fatal (Y/N) no hace falta, ya que en la comlumna Injury, los ataques que han sido mortales\n",
    "# estan marcados como FATAL.\n",
    "\n",
    "data = data.drop(['Fatal (Y/N)'],axis=1)\n",
    "\n",
    "# La columna Injury puede ser vista en cada pdf adjunto para cada ataque, por lo que no es relevante.\n",
    "\n",
    "data = data.drop(['Injury'],axis=1)\n",
    "\n",
    "# La columna Date y Year son similares, ya que la columna Date tiene unos datos poco coherentes, se procede a \n",
    "# eliminarla.\n",
    "data = data.drop(['Date'],axis=1)\n",
    "\n",
    "# La columna Location y la columna Area no son necesarias, ya que conocemos el pais del ataque, ademas \n",
    "# la información que aporta Location puede ser encontrada en el PDF.\n",
    "\n",
    "data = data.drop(['Location','Area'],axis=1)\n",
    "\n",
    "# La columna name no es relevante para la elaboración de mi hipotesis final.\n",
    "\n",
    "data = data.drop(['Name'],axis=1)"
   ]
  },
  {
   "cell_type": "code",
   "execution_count": null,
   "metadata": {},
   "outputs": [],
   "source": [
    "# Dado que hay muchos años puestos a 0, y mi hipotesis es sólo valida a partir del 1900. Voy a eliminar las lineas\n",
    "# que sean anteriores a 1900 y posteriores a 1999.\n",
    "\n",
    "data = data.drop(data[(data['Year']<1900)].index)\n",
    "data = data.drop(data[(data['Year']>1999)].index)"
   ]
  },
  {
   "cell_type": "code",
   "execution_count": null,
   "metadata": {},
   "outputs": [],
   "source": [
    "# Cambio de nombre de la columna Sex para quitarle el espacio al final del nombre.\n",
    "\n",
    "data['Sex']=data['Sex ']\n",
    "data = data.drop(['Sex '],axis=1)"
   ]
  },
  {
   "cell_type": "code",
   "execution_count": null,
   "metadata": {},
   "outputs": [],
   "source": [
    "# Cambio de nombre de la columna pdf\n",
    "\n",
    "data['Pdf']=data['pdf']\n",
    "data = data.drop(['pdf'],axis=1)"
   ]
  },
  {
   "cell_type": "code",
   "execution_count": null,
   "metadata": {},
   "outputs": [],
   "source": [
    "# Reorganización de las columnas.\n",
    "\n",
    "data = data.reindex(columns=['Year','Country','Type','Activity','Sex','Pdf'])"
   ]
  },
  {
   "cell_type": "code",
   "execution_count": null,
   "metadata": {},
   "outputs": [],
   "source": [
    "# Limpieza de los valores de la columna Sex que no sean M,F o NaN\n",
    "\n",
    "data = data.drop(data[(data['Sex']=='.')].index)\n",
    "data = data.drop(data[(data['Sex']=='N')].index)"
   ]
  },
  {
   "cell_type": "code",
   "execution_count": null,
   "metadata": {},
   "outputs": [],
   "source": [
    "# Elimina todas las filas con algun valor en NaN.\n",
    "data = data.dropna()"
   ]
  },
  {
   "cell_type": "code",
   "execution_count": null,
   "metadata": {},
   "outputs": [],
   "source": [
    "set(data['Activity'])"
   ]
  },
  {
   "cell_type": "code",
   "execution_count": null,
   "metadata": {},
   "outputs": [],
   "source": []
  },
  {
   "cell_type": "code",
   "execution_count": null,
   "metadata": {},
   "outputs": [],
   "source": []
  },
  {
   "cell_type": "code",
   "execution_count": null,
   "metadata": {},
   "outputs": [],
   "source": []
  },
  {
   "cell_type": "code",
   "execution_count": null,
   "metadata": {},
   "outputs": [],
   "source": [
    "data2 = data"
   ]
  },
  {
   "cell_type": "code",
   "execution_count": null,
   "metadata": {},
   "outputs": [],
   "source": [
    "def test_regex(year):\n",
    "    return re.match('Swimming', year)\n",
    "\n",
    "data2['Swimming'] = data2['Activity'].apply(test_regex)"
   ]
  },
  {
   "cell_type": "code",
   "execution_count": null,
   "metadata": {},
   "outputs": [],
   "source": [
    "data2['Activity2']"
   ]
  },
  {
   "cell_type": "code",
   "execution_count": null,
   "metadata": {},
   "outputs": [],
   "source": []
  },
  {
   "cell_type": "code",
   "execution_count": null,
   "metadata": {},
   "outputs": [],
   "source": []
  }
 ],
 "metadata": {
  "kernelspec": {
   "display_name": "Python 3",
   "language": "python",
   "name": "python3"
  },
  "language_info": {
   "codemirror_mode": {
    "name": "ipython",
    "version": 3
   },
   "file_extension": ".py",
   "mimetype": "text/x-python",
   "name": "python",
   "nbconvert_exporter": "python",
   "pygments_lexer": "ipython3",
   "version": "3.6.8"
  }
 },
 "nbformat": 4,
 "nbformat_minor": 2
}
